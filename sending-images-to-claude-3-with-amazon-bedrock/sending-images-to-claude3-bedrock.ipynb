{
 "cells": [
  {
   "cell_type": "markdown",
   "metadata": {},
   "source": [
    "Objective:\n",
    "- Generate captions for images using Claude 3 Haiku on Amazon Bedrock\n",
    "- Learn more about how to use this notebook [in this blog post](https://community.aws/content/2gYbjrz8gMwChbnT9Cuv7Y69joB/sending-images-to-claude-3-using-amazon-bedrock)\n",
    "\n",
    "What are we using?\n",
    "- Python\n",
    "- AWS\n",
    "  - Amazon Bedrock\n",
    "  - IAM\n",
    "  - Boto3 (AWS SDK for Python)\n",
    "- Claude 3 Haiku\n",
    "\n",
    "What do you need to install?\n",
    "- `pip install python-dotenv`\n",
    "  - to load our credentials from environment variables instead of hardcoding them in our code (security best practice)\n",
    "- `pip install boto3`\n",
    "- `pip install pybase64`\n"
   ]
  },
  {
   "cell_type": "code",
   "execution_count": 1,
   "metadata": {},
   "outputs": [],
   "source": [
    "import os\n",
    "import dotenv\n",
    "import boto3\n",
    "import json\n",
    "import base64"
   ]
  },
  {
   "cell_type": "code",
   "execution_count": 2,
   "metadata": {},
   "outputs": [
    {
     "data": {
      "text/plain": [
       "True"
      ]
     },
     "execution_count": 2,
     "metadata": {},
     "output_type": "execute_result"
    }
   ],
   "source": [
    "# load environment variables\n",
    "# we use override=True to ensure that the values are refreshed if we edit them on the external configuration file since there seems to be a bug with the Jupyter extension for VS Code where it doesn't reload them even if you close and open the notebook again\n",
    "dotenv.load_dotenv(\".env\", override=True)"
   ]
  },
  {
   "cell_type": "code",
   "execution_count": 3,
   "metadata": {},
   "outputs": [],
   "source": [
    "# set our credentials from the environment values loaded form the .env file\n",
    "AWS_ACCESS_KEY_ID = os.environ.get('AWS_ACCESS_KEY_ID')\n",
    "AWS_SECRET_ACCESS_KEY = os.environ.get('AWS_SECRET_ACCESS_KEY')\n",
    "AWS_REGION = os.environ.get('AWS_REGION')"
   ]
  },
  {
   "cell_type": "code",
   "execution_count": 4,
   "metadata": {},
   "outputs": [],
   "source": [
    "# instantiate a bedrock client using boto3 (AWS' official Python SDK)\n",
    "bedrock_runtime_client = boto3.client(\n",
    "    'bedrock-runtime',\n",
    "    aws_access_key_id=AWS_ACCESS_KEY_ID,\n",
    "    aws_secret_access_key=AWS_SECRET_ACCESS_KEY,\n",
    "    region_name=AWS_REGION\n",
    ")"
   ]
  },
  {
   "cell_type": "markdown",
   "metadata": {},
   "source": [
    "We now need to find the right model id that we can use to send prompts to Claude 3 Haiku. \n",
    "Bedrock is a serverless portal to many Foundation Models and the way you distinguish between them is by their unique model ids. \n",
    "\n",
    "You can find these in two ways:\n",
    "\n",
    "1/ Via the Bedrock Console:\n",
    "+ navigate to the AWS Console\n",
    "+ navigate to Amazon Bedrock\n",
    "+ find the menu where it lists the Foundation Models\n",
    "+ Each model has an API request sample as part of their details where you can copy the model id from\n",
    "\n",
    "2/ Via the AWS CLI:\n",
    "+ type \n",
    "\n",
    "    `aws bedrock list-foundation-models`\n",
    "\n",
    "+ scroll till you find the one you want\n",
    "+ copy the model id\n",
    "+ BONUS TIP: you can filter results ahead of time by using the --by-provider option. In our case, since we want to find out the model id for Anthropic's Claude 3 Haiku model, we could type the following instead to make our lives easier:\n",
    "\n",
    "    `aws bedrock list-foundation-models --by-provider Anthropic`"
   ]
  },
  {
   "cell_type": "code",
   "execution_count": 5,
   "metadata": {},
   "outputs": [],
   "source": [
    "# select the model id\n",
    "model_id = \"anthropic.claude-3-haiku-20240307-v1:0\""
   ]
  },
  {
   "cell_type": "markdown",
   "metadata": {},
   "source": [
    "We first need to load our image and convert it to base64"
   ]
  },
  {
   "cell_type": "code",
   "execution_count": 7,
   "metadata": {},
   "outputs": [],
   "source": [
    "# read our image as binary data first\n",
    "with open('data/aws-serverless-api-architecture-diagram.png', 'rb') as image_file:\n",
    "    encoded_image = base64.b64encode(image_file.read()).decode()"
   ]
  },
  {
   "cell_type": "code",
   "execution_count": 20,
   "metadata": {},
   "outputs": [],
   "source": [
    "payload = {\n",
    "    \"messages\": [\n",
    "        {\n",
    "            \"role\": \"user\",\n",
    "            \"content\": [\n",
    "                {\n",
    "                    \"type\": \"image\",\n",
    "                    \"source\": {\n",
    "                        \"type\": \"base64\",\n",
    "                        \"media_type\": \"image/jpeg\",\n",
    "                        \"data\": encoded_image\n",
    "                    }\n",
    "                },\n",
    "                {\n",
    "                    \"type\": \"text\",\n",
    "                    \"text\": \"Explain this AWS architecture diagram.\"\n",
    "                }\n",
    "            ]\n",
    "        }\n",
    "    ],\n",
    "    \"max_tokens\": 10000,\n",
    "    \"anthropic_version\": \"bedrock-2023-05-31\"\n",
    "}"
   ]
  },
  {
   "cell_type": "markdown",
   "metadata": {},
   "source": [
    "One of the difference between Foundation Models is the way you interact with them. Each has their own way of receiving input so you need to look up the correct way to send a payload depending on the model you're using.\n",
    "\n",
    "For Claude 3 models, the template is the following:\n",
    "\n",
    "```\n",
    "payload = {\n",
    "    \"messages\": [\n",
    "        {\n",
    "            \"role\": \"\",\n",
    "            \"content\": []\n",
    "        }\n",
    "    ],\n",
    "    \"anthropic_version\": \"\"\n",
    "}\n",
    "```\n",
    "\n",
    "Messages is an array of json objects which must contain at least one item following. Each message must strictly follow the schema and declare:\n",
    "- role: this can be either user, or system. \n",
    "- content: this is also an array as you can send multiple content items in one API request to Claude. At minimum you will have one.\n"
   ]
  },
  {
   "cell_type": "code",
   "execution_count": 21,
   "metadata": {},
   "outputs": [],
   "source": [
    "# we're ready to invoke the model!\n",
    "response = bedrock_runtime_client.invoke_model(\n",
    "    modelId=model_id,\n",
    "    contentType=\"application/json\",\n",
    "    body=json.dumps(payload)\n",
    ")"
   ]
  },
  {
   "cell_type": "code",
   "execution_count": 22,
   "metadata": {},
   "outputs": [],
   "source": [
    "# now we need to read the response. It comes back as a stream of bytes so if we want to display the response in one go we need to read the full stream first\n",
    "# then convert it to a string as json and load it as a dictionary so we can access the field containing the content without all the metadata noise\n",
    "output_binary = response[\"body\"].read()\n",
    "output_json = json.loads(output_binary)\n",
    "output = output_json[\"content\"][0][\"text\"]\n"
   ]
  },
  {
   "cell_type": "code",
   "execution_count": 23,
   "metadata": {},
   "outputs": [
    {
     "name": "stdout",
     "output_type": "stream",
     "text": [
      "As an AWS technical consultant, I'd be happy to explain this architecture diagram in detail to help you and your team of developers understand it better.\n",
      "\n",
      "The diagram depicts a high-level AWS architecture for a web application. Let's go through the various components and their roles:\n",
      "\n",
      "1. Application: This is the core of your web application, likely built using a framework or programming language of your choice. It's the main logic that handles user requests and processes data.\n",
      "\n",
      "2. API Gateway: The API Gateway is a key component that serves as the entry point for your application. It provides a secure and scalable way to expose your application's APIs to the client-side. The API Gateway handles tasks like authentication, authorization, and request/response transformation.\n",
      "\n",
      "3. Lambda Functions: These are serverless compute services provided by AWS. The diagram shows two Lambda functions: \"GET\" and \"DELETE\". These functions encapsulate specific application logic and are triggered by events or API calls, allowing you to scale your application's functionality without managing the underlying infrastructure.\n",
      "\n",
      "4. DynamoDB: DynamoDB is an AWS-managed NoSQL database service. It provides a highly scalable and durable data store for your application's data. In this architecture, DynamoDB is used to store and retrieve data required by your application.\n",
      "\n",
      "5. AWS Cloud: The entire architecture is deployed within the AWS Cloud, which provides the infrastructure, services, and tools necessary to run your web application.\n",
      "\n",
      "6. API Gateway Event Trigger: The arrows between the API Gateway and the Lambda functions indicate that the API Gateway can trigger the execution of the respective Lambda functions when specific API requests are made.\n",
      "\n",
      "7. DynamoDB Data Access: The arrows between the Lambda functions and DynamoDB represent the data access operations performed by the Lambda functions, such as reading from or writing to the DynamoDB table.\n",
      "\n",
      "This architecture leverages several key AWS services to build a serverless, scalable, and highly available web application. The API Gateway provides a unified entry point, the Lambda functions encapsulate the application logic, and DynamoDB serves as the data storage solution. This architecture helps you focus on building your application's features without worrying about managing the underlying infrastructure.\n",
      "\n",
      "As the Senior Software Architect, it's important to understand this architecture to effectively collaborate with your development team. You'll need to ensure that your team is familiar with the various AWS services, their roles, and how they interact with each other. Additionally, you'll need to consider aspects like security, performance, cost optimization, and scalability as you work on enhancing or maintaining this application.\n",
      "\n",
      "Please let me know if you have any further questions or need additional clarification on this AWS architecture.\n"
     ]
    }
   ],
   "source": [
    "print(output)"
   ]
  }
 ],
 "metadata": {
  "kernelspec": {
   "display_name": "hello-images-with-claude-3",
   "language": "python",
   "name": "python3"
  },
  "language_info": {
   "codemirror_mode": {
    "name": "ipython",
    "version": 3
   },
   "file_extension": ".py",
   "mimetype": "text/x-python",
   "name": "python",
   "nbconvert_exporter": "python",
   "pygments_lexer": "ipython3",
   "version": "3.12.2"
  }
 },
 "nbformat": 4,
 "nbformat_minor": 2
}
